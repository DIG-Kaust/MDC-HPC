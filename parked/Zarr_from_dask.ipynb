{
 "cells": [
  {
   "cell_type": "code",
   "execution_count": 1,
   "metadata": {},
   "outputs": [],
   "source": [
    "%load_ext autoreload\n",
    "%autoreload 2\n",
    "%matplotlib inline\n",
    "\n",
    "import os\n",
    "import shutil\n",
    "import warnings\n",
    "warnings.filterwarnings('ignore')\n",
    "\n",
    "import numpy as np\n",
    "import matplotlib.pyplot as plt\n",
    "import scipy as sp\n",
    "import dask\n",
    "import dask.array as da\n",
    "import zarr\n",
    "import pylops_distributed\n",
    "from zarr.util import human_readable_size\n",
    "from dask.diagnostics import Profiler, ResourceProfiler, CacheProfiler\n",
    "from dask.diagnostics.profile_visualize import visualize"
   ]
  },
  {
   "cell_type": "markdown",
   "metadata": {},
   "source": [
    "client = pylops_distributed.utils.backend.dask(hardware='multi', client='be-linrgsn096:8786')\n",
    "client"
   ]
  },
  {
   "cell_type": "code",
   "execution_count": 2,
   "metadata": {},
   "outputs": [],
   "source": [
    "def write_concurrent(i, dzarr):\n",
    "    print('Writing %d\\n' % i)\n",
    "    x = i * np.ones(dzarr.chunks)\n",
    "    dzarr[i*dzarr.chunks[0]:(i+1)*dzarr.chunks[0]] = x\n",
    "    print('Done writing %d\\n' % i)\n",
    "    return i\n",
    "\n",
    "nchunks = 5\n",
    "shape =(100, 100, 500)\n",
    "dstore = zarr.DirectoryStore('test.zarr')\n",
    "dzarr = zarr.create(store=dstore, shape=shape, \n",
    "                    chunks=(shape[0]//nchunks, shape[1], shape[2]), \n",
    "                    overwrite=True)"
   ]
  },
  {
   "cell_type": "code",
   "execution_count": 3,
   "metadata": {},
   "outputs": [
    {
     "data": {
      "text/html": [
       "<table class=\"zarr-info\"><tbody><tr><th style=\"text-align: left\">Type</th><td style=\"text-align: left\">zarr.core.Array</td></tr><tr><th style=\"text-align: left\">Data type</th><td style=\"text-align: left\">float64</td></tr><tr><th style=\"text-align: left\">Shape</th><td style=\"text-align: left\">(100, 100, 500)</td></tr><tr><th style=\"text-align: left\">Chunk shape</th><td style=\"text-align: left\">(20, 100, 500)</td></tr><tr><th style=\"text-align: left\">Order</th><td style=\"text-align: left\">C</td></tr><tr><th style=\"text-align: left\">Read-only</th><td style=\"text-align: left\">False</td></tr><tr><th style=\"text-align: left\">Compressor</th><td style=\"text-align: left\">Blosc(cname='lz4', clevel=5, shuffle=SHUFFLE, blocksize=0)</td></tr><tr><th style=\"text-align: left\">Store type</th><td style=\"text-align: left\">zarr.storage.DirectoryStore</td></tr><tr><th style=\"text-align: left\">No. bytes</th><td style=\"text-align: left\">40000000 (38.1M)</td></tr><tr><th style=\"text-align: left\">No. bytes stored</th><td style=\"text-align: left\">366</td></tr><tr><th style=\"text-align: left\">Storage ratio</th><td style=\"text-align: left\">109289.6</td></tr><tr><th style=\"text-align: left\">Chunks initialized</th><td style=\"text-align: left\">0/5</td></tr></tbody></table>"
      ],
      "text/plain": [
       "Type               : zarr.core.Array\n",
       "Data type          : float64\n",
       "Shape              : (100, 100, 500)\n",
       "Chunk shape        : (20, 100, 500)\n",
       "Order              : C\n",
       "Read-only          : False\n",
       "Compressor         : Blosc(cname='lz4', clevel=5, shuffle=SHUFFLE, blocksize=0)\n",
       "Store type         : zarr.storage.DirectoryStore\n",
       "No. bytes          : 40000000 (38.1M)\n",
       "No. bytes stored   : 366\n",
       "Storage ratio      : 109289.6\n",
       "Chunks initialized : 0/5"
      ]
     },
     "execution_count": 3,
     "metadata": {},
     "output_type": "execute_result"
    }
   ],
   "source": [
    "dzarr.info"
   ]
  },
  {
   "cell_type": "code",
   "execution_count": 4,
   "metadata": {},
   "outputs": [
    {
     "name": "stdout",
     "output_type": "stream",
     "text": [
      "Writing 4\n",
      "Writing 1\n",
      "\n",
      "\n",
      "Writing 0\n",
      "\n",
      "Writing 2\n",
      "Writing 3\n",
      "\n",
      "\n",
      "Done writing 2\n",
      "\n",
      "Done writing 4\n",
      "\n",
      "Done writing 1\n",
      "\n",
      "Done writing 0\n",
      "\n",
      "Done writing 3\n",
      "\n"
     ]
    },
    {
     "data": {
      "text/plain": [
       "10"
      ]
     },
     "execution_count": 4,
     "metadata": {},
     "output_type": "execute_result"
    }
   ],
   "source": [
    "output = []\n",
    "for i in range(nchunks):\n",
    "    out = dask.delayed(write_concurrent)(i, dzarr)\n",
    "    output.append(out)\n",
    "total = dask.delayed(sum)(output)\n",
    "\n",
    "total.compute()"
   ]
  },
  {
   "cell_type": "code",
   "execution_count": 5,
   "metadata": {},
   "outputs": [
    {
     "data": {
      "text/plain": [
       "<matplotlib.image.AxesImage at 0x7fceec09ecc0>"
      ]
     },
     "execution_count": 5,
     "metadata": {},
     "output_type": "execute_result"
    },
    {
     "data": {
      "image/png": "[encoded data removed]",
      "text/plain": [
       "<Figure size 432x288 with 1 Axes>"
      ]
     },
     "metadata": {
      "needs_background": "light"
     },
     "output_type": "display_data"
    }
   ],
   "source": [
    "plt.imshow(dzarr[:, shape[1]//2])"
   ]
  },
  {
   "cell_type": "code",
   "execution_count": 6,
   "metadata": {},
   "outputs": [
    {
     "data": {
      "text/html": [
       "<table>\n",
       "<tr>\n",
       "<td>\n",
       "<table>  <thead>    <tr><td> </td><th> Array </th><th> Chunk </th></tr>\n",
       "  </thead>\n",
       "  <tbody>\n",
       "    <tr><th> Bytes </th><td> 40.00 MB </td> <td> 8.00 MB </td></tr>\n",
       "    <tr><th> Shape </th><td> (100, 100, 500) </td> <td> (100, 100, 100) </td></tr>\n",
       "    <tr><th> Count </th><td> 6 Tasks </td><td> 5 Chunks </td></tr>\n",
       "    <tr><th> Type </th><td> float64 </td><td> numpy.ndarray </td></tr>\n",
       "  </tbody></table>\n",
       "</td>\n",
       "<td>\n",
       "<svg width=\"204\" height=\"116\" style=\"stroke:rgb(0,0,0);stroke-width:1\" >\n",
       "\n",
       "  <!-- Horizontal lines -->\n",
       "  <line x1=\"10\" y1=\"0\" x2=\"34\" y2=\"24\" style=\"stroke-width:2\" />\n",
       "  <line x1=\"10\" y1=\"42\" x2=\"34\" y2=\"66\" style=\"stroke-width:2\" />\n",
       "\n",
       "  <!-- Vertical lines -->\n",
       "  <line x1=\"10\" y1=\"0\" x2=\"10\" y2=\"42\" style=\"stroke-width:2\" />\n",
       "  <line x1=\"34\" y1=\"24\" x2=\"34\" y2=\"66\" style=\"stroke-width:2\" />\n",
       "\n",
       "  <!-- Colored Rectangle -->\n",
       "  <polygon points=\"10.000000,0.000000 34.711700,24.711700 34.711700,66.721590 10.000000,42.009890\" style=\"fill:#ECB172A0;stroke-width:0\"/>\n",
       "\n",
       "  <!-- Horizontal lines -->\n",
       "  <line x1=\"10\" y1=\"0\" x2=\"130\" y2=\"0\" style=\"stroke-width:2\" />\n",
       "  <line x1=\"34\" y1=\"24\" x2=\"154\" y2=\"24\" style=\"stroke-width:2\" />\n",
       "\n",
       "  <!-- Vertical lines -->\n",
       "  <line x1=\"10\" y1=\"0\" x2=\"34\" y2=\"24\" style=\"stroke-width:2\" />\n",
       "  <line x1=\"34\" y1=\"0\" x2=\"58\" y2=\"24\" />\n",
       "  <line x1=\"58\" y1=\"0\" x2=\"82\" y2=\"24\" />\n",
       "  <line x1=\"82\" y1=\"0\" x2=\"106\" y2=\"24\" />\n",
       "  <line x1=\"106\" y1=\"0\" x2=\"130\" y2=\"24\" />\n",
       "  <line x1=\"130\" y1=\"0\" x2=\"154\" y2=\"24\" style=\"stroke-width:2\" />\n",
       "\n",
       "  <!-- Colored Rectangle -->\n",
       "  <polygon points=\"10.000000,0.000000 130.000000,0.000000 154.711700,24.711700 34.711700,24.711700\" style=\"fill:#ECB172A0;stroke-width:0\"/>\n",
       "\n",
       "  <!-- Horizontal lines -->\n",
       "  <line x1=\"34\" y1=\"24\" x2=\"154\" y2=\"24\" style=\"stroke-width:2\" />\n",
       "  <line x1=\"34\" y1=\"66\" x2=\"154\" y2=\"66\" style=\"stroke-width:2\" />\n",
       "\n",
       "  <!-- Vertical lines -->\n",
       "  <line x1=\"34\" y1=\"24\" x2=\"34\" y2=\"66\" style=\"stroke-width:2\" />\n",
       "  <line x1=\"58\" y1=\"24\" x2=\"58\" y2=\"66\" />\n",
       "  <line x1=\"82\" y1=\"24\" x2=\"82\" y2=\"66\" />\n",
       "  <line x1=\"106\" y1=\"24\" x2=\"106\" y2=\"66\" />\n",
       "  <line x1=\"130\" y1=\"24\" x2=\"130\" y2=\"66\" />\n",
       "  <line x1=\"154\" y1=\"24\" x2=\"154\" y2=\"66\" style=\"stroke-width:2\" />\n",
       "\n",
       "  <!-- Colored Rectangle -->\n",
       "  <polygon points=\"34.711700,24.711700 154.711700,24.711700 154.711700,66.721590 34.711700,66.721590\" style=\"fill:#ECB172A0;stroke-width:0\"/>\n",
       "\n",
       "  <!-- Text -->\n",
       "  <text x=\"94.711700\" y=\"86.721590\" font-size=\"1.0rem\" font-weight=\"100\" text-anchor=\"middle\" >500</text>\n",
       "  <text x=\"174.711700\" y=\"45.716645\" font-size=\"1.0rem\" font-weight=\"100\" text-anchor=\"middle\" transform=\"rotate(-90,174.711700,45.716645)\">100</text>\n",
       "  <text x=\"12.355850\" y=\"74.365740\" font-size=\"1.0rem\" font-weight=\"100\" text-anchor=\"middle\" transform=\"rotate(45,12.355850,74.365740)\">100</text>\n",
       "</svg>\n",
       "</td>\n",
       "</tr>\n",
       "</table>"
      ],
      "text/plain": [
       "dask.array<from-zarr, shape=(100, 100, 500), dtype=float64, chunksize=(100, 100, 100)>"
      ]
     },
     "execution_count": 6,
     "metadata": {},
     "output_type": "execute_result"
    }
   ],
   "source": [
    "ddask = da.from_zarr('test.zarr', chunks=(shape[0], shape[1], shape[2]//nchunks))\n",
    "ddask"
   ]
  },
  {
   "cell_type": "code",
   "execution_count": 7,
   "metadata": {},
   "outputs": [
    {
     "data": {
      "text/html": [
       "<table>\n",
       "<tr>\n",
       "<td>\n",
       "<table>  <thead>    <tr><td> </td><th> Array </th><th> Chunk </th></tr>\n",
       "  </thead>\n",
       "  <tbody>\n",
       "    <tr><th> Bytes </th><td> 40.00 MB </td> <td> 8.00 MB </td></tr>\n",
       "    <tr><th> Shape </th><td> (500, 100, 100) </td> <td> (100, 100, 100) </td></tr>\n",
       "    <tr><th> Count </th><td> 11 Tasks </td><td> 5 Chunks </td></tr>\n",
       "    <tr><th> Type </th><td> float64 </td><td> numpy.ndarray </td></tr>\n",
       "  </tbody></table>\n",
       "</td>\n",
       "<td>\n",
       "<svg width=\"172\" height=\"162\" style=\"stroke:rgb(0,0,0);stroke-width:1\" >\n",
       "\n",
       "  <!-- Horizontal lines -->\n",
       "  <line x1=\"10\" y1=\"0\" x2=\"80\" y2=\"70\" style=\"stroke-width:2\" />\n",
       "  <line x1=\"10\" y1=\"42\" x2=\"80\" y2=\"112\" style=\"stroke-width:2\" />\n",
       "\n",
       "  <!-- Vertical lines -->\n",
       "  <line x1=\"10\" y1=\"0\" x2=\"10\" y2=\"42\" style=\"stroke-width:2\" />\n",
       "  <line x1=\"24\" y1=\"14\" x2=\"24\" y2=\"56\" />\n",
       "  <line x1=\"38\" y1=\"28\" x2=\"38\" y2=\"70\" />\n",
       "  <line x1=\"52\" y1=\"42\" x2=\"52\" y2=\"84\" />\n",
       "  <line x1=\"66\" y1=\"56\" x2=\"66\" y2=\"98\" />\n",
       "  <line x1=\"80\" y1=\"70\" x2=\"80\" y2=\"112\" style=\"stroke-width:2\" />\n",
       "\n",
       "  <!-- Colored Rectangle -->\n",
       "  <polygon points=\"10.000000,0.000000 80.588235,70.588235 80.588235,112.598126 10.000000,42.009890\" style=\"fill:#ECB172A0;stroke-width:0\"/>\n",
       "\n",
       "  <!-- Horizontal lines -->\n",
       "  <line x1=\"10\" y1=\"0\" x2=\"52\" y2=\"0\" style=\"stroke-width:2\" />\n",
       "  <line x1=\"24\" y1=\"14\" x2=\"66\" y2=\"14\" />\n",
       "  <line x1=\"38\" y1=\"28\" x2=\"80\" y2=\"28\" />\n",
       "  <line x1=\"52\" y1=\"42\" x2=\"94\" y2=\"42\" />\n",
       "  <line x1=\"66\" y1=\"56\" x2=\"108\" y2=\"56\" />\n",
       "  <line x1=\"80\" y1=\"70\" x2=\"122\" y2=\"70\" style=\"stroke-width:2\" />\n",
       "\n",
       "  <!-- Vertical lines -->\n",
       "  <line x1=\"10\" y1=\"0\" x2=\"80\" y2=\"70\" style=\"stroke-width:2\" />\n",
       "  <line x1=\"52\" y1=\"0\" x2=\"122\" y2=\"70\" style=\"stroke-width:2\" />\n",
       "\n",
       "  <!-- Colored Rectangle -->\n",
       "  <polygon points=\"10.000000,0.000000 52.009890,0.000000 122.598126,70.588235 80.588235,70.588235\" style=\"fill:#ECB172A0;stroke-width:0\"/>\n",
       "\n",
       "  <!-- Horizontal lines -->\n",
       "  <line x1=\"80\" y1=\"70\" x2=\"122\" y2=\"70\" style=\"stroke-width:2\" />\n",
       "  <line x1=\"80\" y1=\"112\" x2=\"122\" y2=\"112\" style=\"stroke-width:2\" />\n",
       "\n",
       "  <!-- Vertical lines -->\n",
       "  <line x1=\"80\" y1=\"70\" x2=\"80\" y2=\"112\" style=\"stroke-width:2\" />\n",
       "  <line x1=\"122\" y1=\"70\" x2=\"122\" y2=\"112\" style=\"stroke-width:2\" />\n",
       "\n",
       "  <!-- Colored Rectangle -->\n",
       "  <polygon points=\"80.588235,70.588235 122.598126,70.588235 122.598126,112.598126 80.588235,112.598126\" style=\"fill:#ECB172A0;stroke-width:0\"/>\n",
       "\n",
       "  <!-- Text -->\n",
       "  <text x=\"101.593180\" y=\"132.598126\" font-size=\"1.0rem\" font-weight=\"100\" text-anchor=\"middle\" >100</text>\n",
       "  <text x=\"142.598126\" y=\"91.593180\" font-size=\"1.0rem\" font-weight=\"100\" text-anchor=\"middle\" transform=\"rotate(-90,142.598126,91.593180)\">100</text>\n",
       "  <text x=\"35.294118\" y=\"97.304008\" font-size=\"1.0rem\" font-weight=\"100\" text-anchor=\"middle\" transform=\"rotate(45,35.294118,97.304008)\">500</text>\n",
       "</svg>\n",
       "</td>\n",
       "</tr>\n",
       "</table>"
      ],
      "text/plain": [
       "dask.array<transpose, shape=(500, 100, 100), dtype=float64, chunksize=(100, 100, 100)>"
      ]
     },
     "execution_count": 7,
     "metadata": {},
     "output_type": "execute_result"
    }
   ],
   "source": [
    "ddask = ddask.transpose((2, 0, 1))\n",
    "ddask"
   ]
  },
  {
   "cell_type": "code",
   "execution_count": 8,
   "metadata": {},
   "outputs": [
    {
     "data": {
      "image/png": "[encoded data removed]",
      "text/plain": [
       "<IPython.core.display.Image object>"
      ]
     },
     "execution_count": 8,
     "metadata": {},
     "output_type": "execute_result"
    }
   ],
   "source": [
    "ddask.visualize()"
   ]
  },
  {
   "cell_type": "code",
   "execution_count": 9,
   "metadata": {},
   "outputs": [
    {
     "data": {
      "text/plain": [
       "<matplotlib.image.AxesImage at 0x7fcee4219908>"
      ]
     },
     "execution_count": 9,
     "metadata": {},
     "output_type": "execute_result"
    },
    {
     "data": {
      "image/png": "[encoded data removed]",
      "text/plain": [
       "<Figure size 432x288 with 1 Axes>"
      ]
     },
     "metadata": {
      "needs_background": "light"
     },
     "output_type": "display_data"
    }
   ],
   "source": [
    "plt.imshow(dzarr[:, shape[1]//2])"
   ]
  },
  {
   "cell_type": "code",
   "execution_count": null,
   "metadata": {},
   "outputs": [],
   "source": []
  }
 ],
 "metadata": {
  "kernelspec": {
   "display_name": "Python 3",
   "language": "python",
   "name": "python3"
  },
  "language_info": {
   "codemirror_mode": {
    "name": "ipython",
    "version": 3
   },
   "file_extension": ".py",
   "mimetype": "text/x-python",
   "name": "python",
   "nbconvert_exporter": "python",
   "pygments_lexer": "ipython3",
   "version": "3.7.3"
  }
 },
 "nbformat": 4,
 "nbformat_minor": 2
}
