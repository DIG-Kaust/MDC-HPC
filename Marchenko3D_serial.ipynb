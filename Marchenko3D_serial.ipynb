{
 "cells": [
  {
   "cell_type": "markdown",
   "metadata": {},
   "source": [
    "# Pylops - Marchenko redatuming with 3D dataset"
   ]
  },
  {
   "cell_type": "markdown",
   "metadata": {},
   "source": [
    "### Author: M.Ravasi"
   ]
  },
  {
   "cell_type": "markdown",
   "metadata": {},
   "source": [
    "This notebook extends the standard *Marchenko* algorithm in PyLops (serial mode)"
   ]
  },
  {
   "cell_type": "code",
   "execution_count": null,
   "metadata": {
    "scrolled": true
   },
   "outputs": [],
   "source": [
    "%load_ext autoreload\n",
    "%autoreload 2\n",
    "%matplotlib inline\n",
    "\n",
    "import warnings\n",
    "warnings.filterwarnings('ignore')\n",
    "\n",
    "import os\n",
    "import time\n",
    "import numpy as np\n",
    "import matplotlib.pyplot as plt\n",
    "import scipy as sp\n",
    "import zarr\n",
    "import pylops\n",
    "\n",
    "from datetime import date\n",
    "from timeit import repeat\n",
    "from scipy.sparse.linalg import cg, lsqr\n",
    "from scipy.signal import convolve, filtfilt\n",
    "from scipy.spatial import Voronoi, ConvexHull, voronoi_plot_2d\n",
    "\n",
    "from pylops.basicoperators import *\n",
    "from pylops.waveeqprocessing.mdd       import MDC\n",
    "from pylops.utils.wavelets             import *\n",
    "from pylops.utils.seismicevents        import *\n",
    "from pylops.utils.tapers               import *\n",
    "from pylops.waveeqprocessing.marchenko import directwave\n",
    "from pylops.utils import dottest\n",
    "from pylops.basicoperators import Diagonal\n",
    "from pylops.basicoperators import Identity\n",
    "from pylops.basicoperators import Roll\n",
    "from pylops.waveeqprocessing.mdd import MDC\n",
    "from pylops.waveeqprocessing.marchenko import Marchenko"
   ]
  },
  {
   "cell_type": "code",
   "execution_count": null,
   "metadata": {},
   "outputs": [],
   "source": [
    "os.environ[\"STORE_PATH\"] = \"/project/fsenter/mrava/Marchenko3D/\""
   ]
  },
  {
   "cell_type": "markdown",
   "metadata": {},
   "source": [
    "## Inputs"
   ]
  },
  {
   "cell_type": "markdown",
   "metadata": {
    "collapsed": true
   },
   "source": [
    "Input parameters "
   ]
  },
  {
   "cell_type": "code",
   "execution_count": null,
   "metadata": {},
   "outputs": [],
   "source": [
    "vel = 2400.0        # velocity\n",
    "toff = 0.045        # direct arrival time shift\n",
    "nsmooth = 10        # time window smoothing \n",
    "nfmax = 300         # max frequency for MDC (#samples)\n",
    "nstaper = 11        # source/receiver taper lenght\n",
    "n_iter = 10         # iterations\n",
    "subsampling = 2     # subsampling of src-recs compared to original data\n",
    "displaygeom = True  # display geometry\n",
    "\n",
    "inputfile_aux = os.environ[\"STORE_PATH\"] + '3DMarchenko_auxiliary_2.npz' \n",
    "zarrfile = os.environ[\"STORE_PATH\"] + 'input3D_sub%d_ffirst.zarr' % subsampling"
   ]
  },
  {
   "cell_type": "markdown",
   "metadata": {},
   "source": [
    "Load input"
   ]
  },
  {
   "cell_type": "code",
   "execution_count": null,
   "metadata": {},
   "outputs": [],
   "source": [
    "inputdata_aux = np.load(inputfile_aux)"
   ]
  },
  {
   "cell_type": "markdown",
   "metadata": {},
   "source": [
    "Read geometry"
   ]
  },
  {
   "cell_type": "code",
   "execution_count": null,
   "metadata": {
    "scrolled": false
   },
   "outputs": [],
   "source": [
    "# Receivers\n",
    "r = inputdata_aux['recs'][::subsampling].T\n",
    "nr = r.shape[1]\n",
    "dr = r[0,1]-r[0,0]\n",
    "\n",
    "# Sources\n",
    "s = inputdata_aux['srcs'][::subsampling].T\n",
    "ns = s.shape[1]\n",
    "ds = s[0,1]-s[0,0]\n",
    "\n",
    "# Virtual points\n",
    "vs = inputdata_aux['vs'] \n",
    "\n",
    "# Density model\n",
    "rho = inputdata_aux['rho']\n",
    "z, x, y = inputdata_aux['z'], inputdata_aux['x'], inputdata_aux['y']"
   ]
  },
  {
   "cell_type": "markdown",
   "metadata": {},
   "source": [
    "Identify areal extent of each source-receiver to be used in MDC integral"
   ]
  },
  {
   "cell_type": "code",
   "execution_count": null,
   "metadata": {},
   "outputs": [],
   "source": [
    "def voronoi_volumes(points):\n",
    "    v = Voronoi(points)\n",
    "    vol = np.zeros(v.npoints)\n",
    "    for i, reg_num in enumerate(v.point_region):\n",
    "        indices = v.regions[reg_num]\n",
    "        if -1 in indices: # some regions can be opened\n",
    "            vol[i] = np.inf\n",
    "        else:\n",
    "            vol[i] = ConvexHull(v.vertices[indices]).volume\n",
    "    return v, vol\n",
    "\n",
    "# find area of each volume - note that areas at the edges and on vertex are unbounded, ̈́\n",
    "# we will assume that they are and use the minimum are for all points in this example\n",
    "vertex, vols = voronoi_volumes(r[:2].T)\n",
    "darea = np.min(np.unique(vols))\n",
    "print('Integration area %f' % darea)"
   ]
  },
  {
   "cell_type": "markdown",
   "metadata": {},
   "source": [
    "Read data"
   ]
  },
  {
   "cell_type": "code",
   "execution_count": null,
   "metadata": {},
   "outputs": [],
   "source": [
    "# time axis\n",
    "ot, dt, nt = 0, 2.5e-3, 601\n",
    "t = np.arange(nt)*dt"
   ]
  },
  {
   "cell_type": "code",
   "execution_count": null,
   "metadata": {},
   "outputs": [],
   "source": [
    "%%time\n",
    "dRtwosided_fft = zarr.open(zarrfile, mode='r')\n",
    "dRtwosided_fft = 2 * dRtwosided_fft[:] # 2 * as per theory you need 2*R"
   ]
  },
  {
   "cell_type": "code",
   "execution_count": null,
   "metadata": {},
   "outputs": [],
   "source": [
    "if displaygeom:\n",
    "    Rmid_fft = (dRtwosided_fft[:, ns // 2])\n",
    "    Rmid = np.fft.irfft(Rmid_fft, n=2*nt-1, axis=0)"
   ]
  },
  {
   "cell_type": "markdown",
   "metadata": {},
   "source": [
    "Read subsurface fields and wavelet to apply to subsurface fields"
   ]
  },
  {
   "cell_type": "code",
   "execution_count": null,
   "metadata": {},
   "outputs": [],
   "source": [
    "Gsub = inputdata_aux['G'][:, ::subsampling]\n",
    "G0sub = inputdata_aux['G0'][:, ::subsampling]\n",
    "wav = ricker(t[:51], 20)[0]\n",
    "wav_c = np.argmax(wav)\n",
    "\n",
    "# convolve with wavelet\n",
    "Gsub = np.apply_along_axis(convolve, 0, Gsub, wav, mode='full')\n",
    "Gsub = Gsub[wav_c:][:nt]\n",
    "G0sub = np.apply_along_axis(convolve, 0, G0sub, wav, mode='full') \n",
    "G0sub = G0sub[wav_c:][:nt]"
   ]
  },
  {
   "cell_type": "markdown",
   "metadata": {},
   "source": [
    "Visualization"
   ]
  },
  {
   "cell_type": "code",
   "execution_count": null,
   "metadata": {
    "scrolled": false
   },
   "outputs": [],
   "source": [
    "if displaygeom:\n",
    "    fig = plt.figure(figsize=(18, 6))\n",
    "    plt.suptitle('Geometry and Data', y=1.04, fontsize=18, fontweight='bold')\n",
    "    ax0 = plt.subplot2grid((5, 10), (0, 0), rowspan=2, colspan=4)\n",
    "    ax1 = plt.subplot2grid((5, 10), (2, 0), rowspan=3, colspan=4)\n",
    "    ax2 = plt.subplot2grid((5, 10), (0, 4), rowspan=2, colspan=2)\n",
    "    ax3 = plt.subplot2grid((5, 10), (2, 4), rowspan=3, colspan=2)\n",
    "    ax4 = plt.subplot2grid((5, 10), (0, 6), rowspan=5, colspan=6)\n",
    "\n",
    "    ax0.imshow(rho[:,:,np.argmin(np.abs(z-vs[2]))], cmap='gray', origin='lower',\n",
    "               vmin=2000, vmax=6000, extent = (x[0], x[-1], y[0], y[-1]))\n",
    "    ax0.scatter(s[0], s[1], marker='.', s=50, c='r', edgecolors='k')\n",
    "    ax0.scatter(vs[0], vs[1], marker='.', s=250, c='m', edgecolors='k')\n",
    "    ax0.axis('tight')\n",
    "    ax0.set_ylabel('x [m]')\n",
    "    ax0.set_xlim(x[0], x[-1])\n",
    "    ax0.set_ylim(y[0], y[-1])\n",
    "    #ax0.text(50, 1000, '(a)', va=\"center\", color='k', fontsize=12,\n",
    "    #         bbox=dict( fc='w', ec='k'))\n",
    "    ax0.set_xticklabels([])\n",
    "\n",
    "    ax1.imshow(rho[np.argmin(np.abs(x-vs[1]))].T, cmap='gray', vmin=1000, vmax=5000,\n",
    "               extent = (x[0], x[-1], z[-1], z[0]))\n",
    "    ax1.axhline(r[2, 0], color='b', lw=4)\n",
    "    ax1.axhline(s[2, 0], color='r', linestyle='--', lw=4)\n",
    "    ax1.scatter(vs[0], vs[2], marker='.', s=400, c='m', edgecolors='k')\n",
    "    ax1.axis('tight')\n",
    "    ax1.set_xlabel('x [m]')\n",
    "    ax1.set_ylabel('z [m]')\n",
    "    ax1.set_xlim(x[0], x[-1])\n",
    "    #ax1.text(50, 100, '(b)', va=\"center\", color='k', fontsize=15,\n",
    "    #         bbox=dict( fc='w', ec='k'))\n",
    "\n",
    "    voronoi_plot_2d(vertex, ax=ax2, show_points=False,\n",
    "                    show_vertices=False, line_colors='k',\n",
    "                    line_width=2, line_alpha=0.6, point_size=10)\n",
    "    ax2.scatter(s[0], s[1], marker='.', s=100, c='r', edgecolors='k')\n",
    "    ax2.scatter(vs[0], vs[1], marker='.', s=400, c='m', edgecolors='k')\n",
    "    ax2.set_xlim(vs[0]-80, vs[0]+80)\n",
    "    ax2.set_ylim(vs[1]-80, vs[1]+80)\n",
    "    #ax2.text(550, 600, '(c)', va=\"center\", color='k', fontsize=15,\n",
    "    #         bbox=dict( fc='w', ec='k'))\n",
    "\n",
    "    ax3.imshow(rho[np.argmin(np.abs(y-vs[0]))].T, cmap='gray', vmin=1000, vmax=5000,\n",
    "               extent = (y[0], y[-1], z[-1], z[0]))\n",
    "    ax3.axhline(r[2, 0], color='b', lw=4)\n",
    "    ax3.axhline(s[2, 0], color='r', linestyle='--', lw=4)\n",
    "    ax3.scatter(vs[1], vs[2], marker='.', s=400, c='m', edgecolors='k')\n",
    "    ax3.set_xlabel('y [m]')\n",
    "    ax3.axis('tight')\n",
    "    ax3.set_xlim(y[0], y[-1]);\n",
    "    ax3.set_yticklabels([])\n",
    "    #ax3.text(100, 100, '(d)', va=\"center\", color='k', fontsize=15,\n",
    "    #         bbox=dict( fc='w', ec='k'))\n",
    "\n",
    "    ax4.imshow(Rmid[nt:], cmap='gray', vmin=-1e-5, vmax=1e-5, extent=(0, nr, t[-1], t[0]))\n",
    "    ax4.axis('tight')\n",
    "    ax4.set_xlim(nr//2-20, nr//2+20)\n",
    "    ax4.set_xlabel('# Rec')\n",
    "    ax4.set_ylabel('t [s]')\n",
    "    ax4.set_ylim(0.8, 0.)\n",
    "    #ax4.text(1130, 0.05, '(f)', va=\"center\", color='k', fontsize=15,\n",
    "    #         bbox=dict( fc='w', ec='k'))\n",
    "\n",
    "    plt.tight_layout()\n",
    "    #plt.savefig('Figures/geometry_subsampling%d.eps' % subsampling, bbox_inches='tight')\n",
    "    #plt.savefig('Figures/geometry_subsampling%d.png' % subsampling, dpi=300, bbox_inches='tight')"
   ]
  },
  {
   "cell_type": "markdown",
   "metadata": {},
   "source": [
    "## Marchenko preparation"
   ]
  },
  {
   "cell_type": "markdown",
   "metadata": {},
   "source": [
    "Create window"
   ]
  },
  {
   "cell_type": "code",
   "execution_count": null,
   "metadata": {},
   "outputs": [],
   "source": [
    "# direct arrival window - traveltime\n",
    "distVS = np.sqrt((vs[0]-r[0])**2 +(vs[1]-r[1])**2 +(vs[2]-r[2])**2)\n",
    "directVS = distVS/vel\n",
    "directVS_off = directVS - toff\n",
    "\n",
    "# window\n",
    "idirectVS_off = np.round(directVS_off/dt).astype(np.int)\n",
    "w = np.zeros((nr, nt))\n",
    "for ir in range(nr):\n",
    "    w[ir, :idirectVS_off[ir]]=1            \n",
    "w = np.hstack((np.fliplr(w), w[:, 1:]))\n",
    "\n",
    "if nsmooth>0:\n",
    "    smooth=np.ones(nsmooth)/nsmooth\n",
    "    w  = filtfilt(smooth, 1, w)    \n",
    "    \n",
    "fig, ax = plt.subplots(1, 1,  sharey=True, figsize=(20, 5))\n",
    "im = ax.imshow(w.T, cmap='gray', extent=(0, nr, t[-1], -t[-1]))\n",
    "ax.plot(np.arange(0, nr), directVS_off, '--r')\n",
    "ax.plot(np.arange(0, nr), -directVS_off, '--r')\n",
    "ax.set_title('Window') \n",
    "ax.set_xlabel(r'$x_R$')\n",
    "ax.set_ylabel(r'$t$')\n",
    "ax.axis('tight')\n",
    "ax.set_xlim(800, 1000);\n",
    "fig.colorbar(im, ax=ax);"
   ]
  },
  {
   "cell_type": "markdown",
   "metadata": {},
   "source": [
    "Create analytical direct wave"
   ]
  },
  {
   "cell_type": "code",
   "execution_count": null,
   "metadata": {},
   "outputs": [],
   "source": [
    "G0sub_ana = directwave(wav, directVS, nt, dt, nfft=2**11, dist=distVS, kind='3d') \n",
    "\n",
    "# differentiate to get same as FD modelling\n",
    "G0sub_ana = np.diff(G0sub_ana, axis=0)\n",
    "G0sub_ana = np.vstack([G0sub_ana, np.zeros(nr)])\n",
    "G0sub_ana = G0sub_ana * (G0sub.max() / G0sub_ana.max())\n",
    "\n",
    "fig = plt.figure(figsize=(15,5))\n",
    "ax1 = plt.subplot2grid((1, 5), (0, 0), colspan=2)\n",
    "ax2 = plt.subplot2grid((1, 5), (0, 2), colspan=2)\n",
    "ax3 = plt.subplot2grid((1, 5), (0, 4))\n",
    "\n",
    "ax1.imshow(G0sub/G0sub.max(), cmap='gray', vmin=-1, vmax=1, \n",
    "           extent=(0, nr, t[-1], t[0]))\n",
    "ax1.set_title(r'$G0_{FD}$'), ax1.set_xlabel(r'$x_R$'), ax1.set_ylabel(r'$t$')\n",
    "ax1.plot(np.arange(0, nr), directVS, '--r')\n",
    "ax1.axis('tight')\n",
    "ax1.set_ylim(.6, 0)\n",
    "ax1.set_xlim(800, 1200)\n",
    "ax2.imshow(G0sub_ana/G0sub_ana.max(), cmap='gray', vmin=-1, vmax=1, \n",
    "           extent=(0, nr, t[-1], t[0]))\n",
    "ax2.set_title(r'$G0_{Ana}$'), ax2.set_xlabel(r'$x_R$'), ax2.set_ylabel(r'$t$')\n",
    "ax2.plot(np.arange(0, nr), directVS, '--r')\n",
    "ax2.axis('tight')\n",
    "ax2.set_ylim(.6, 0)\n",
    "ax2.set_xlim(800, 1200)\n",
    "ax3.plot(G0sub[:, nr//2-10]/G0sub.max(), t, 'r', lw=5)\n",
    "ax3.plot(G0sub_ana[:, nr//2-10]/G0sub_ana.max(), t, 'k', lw=3)\n",
    "ax3.set_ylim(1., 0);"
   ]
  },
  {
   "cell_type": "markdown",
   "metadata": {},
   "source": [
    "For now we will use the direct wave obtained via finite-difference, but we will show later that Marchenko redatuming can converge to the correct solution also when using an analytical direct wave."
   ]
  },
  {
   "cell_type": "markdown",
   "metadata": {},
   "source": [
    "## Inversion"
   ]
  },
  {
   "cell_type": "markdown",
   "metadata": {},
   "source": [
    "Create distributed Marchenko operator"
   ]
  },
  {
   "cell_type": "code",
   "execution_count": null,
   "metadata": {},
   "outputs": [],
   "source": [
    "# Operators\n",
    "dRop = MDC(dRtwosided_fft, nt=2*nt-1, nv=1, dt=dt, dr=darea, twosided=True, transpose=False,\n",
    "           saveGt=False)\n",
    "dR1op = MDC(dRtwosided_fft, nt=2*nt-1, nv=1, dt=dt, dr=darea, twosided=True, transpose=False,\n",
    "            saveGt=False, conj=True)\n",
    "dRollop = Roll((2*nt-1) * nr,\n",
    "               dims=(2*nt-1, nr),\n",
    "               dir=0, shift=-1)\n",
    "\n",
    "# Input focusing function\n",
    "dfd_plus =  np.concatenate((np.fliplr(G0sub_ana.T).T, \n",
    "                            np.zeros((nt-1, nr))))"
   ]
  },
  {
   "cell_type": "code",
   "execution_count": null,
   "metadata": {
    "scrolled": false
   },
   "outputs": [],
   "source": [
    "dWop = Diagonal(w.T.flatten())\n",
    "dIop = Identity(nr*(2*nt-1))\n",
    "\n",
    "dMop = VStack([HStack([dIop, -1*dWop*dRop]),\n",
    "               HStack([-1*dWop*dRollop*dR1op, dIop])])*BlockDiag([dWop, dWop])\n",
    "dGop = VStack([HStack([dIop, -1*dRop]),\n",
    "               HStack([-1*dRollop*dR1op, dIop])])\n",
    "\n",
    "#ddottest(dGop, 2*nr*(2*nt-1), 2*nr*(2*nt-1), chunks=(2*nr*(2*nt-1), 2*nr*(2*nt-1)), verb=True)\n",
    "#ddottest(dMop, 2*nr*(2*nt-1), 2*nr*(2*nt-1), chunks=(2*nr*(2*nt-1), 2*nr*(2*nt-1)), verb=True);"
   ]
  },
  {
   "cell_type": "markdown",
   "metadata": {},
   "source": [
    "Timing MDC"
   ]
  },
  {
   "cell_type": "code",
   "execution_count": null,
   "metadata": {},
   "outputs": [],
   "source": [
    "ntime, nrepeat = 5, 2\n",
    "\n",
    "t0 = time.time()\n",
    "exctime = np.array(repeat(lambda: dRop.matvec(dfd_plus.flatten()), number=ntime, repeat=nrepeat))\n",
    "meantime, stdtime = np.mean(exctime/ntime), np.std(exctime/ntime)\n",
    "print( time.time() - t0, meantime*ntime*nrepeat)\n",
    "print('Forward:', meantime, stdtime)"
   ]
  },
  {
   "cell_type": "markdown",
   "metadata": {},
   "source": [
    "Run standard redatuming as benchmark"
   ]
  },
  {
   "cell_type": "code",
   "execution_count": null,
   "metadata": {},
   "outputs": [],
   "source": [
    "t0 = time.time()\n",
    "dp0_minus = dRop * dfd_plus.flatten()\n",
    "dp0_minus = dp0_minus.reshape((2*nt-1), nr).T"
   ]
  },
  {
   "cell_type": "markdown",
   "metadata": {},
   "source": [
    "Create data"
   ]
  },
  {
   "cell_type": "code",
   "execution_count": null,
   "metadata": {},
   "outputs": [],
   "source": [
    "dd = dWop*dRop*dfd_plus.flatten()\n",
    "dd = np.concatenate((dd.reshape(2*nt-1, nr), np.zeros((2*nt-1, nr))))"
   ]
  },
  {
   "cell_type": "markdown",
   "metadata": {},
   "source": [
    "Adjoint and inverse focusing functions"
   ]
  },
  {
   "cell_type": "code",
   "execution_count": null,
   "metadata": {
    "scrolled": false
   },
   "outputs": [],
   "source": [
    "df1_adj = dMop.H * dd.flatten()\n",
    "\n",
    "df1_inv = lsqr(dMop, dd.ravel(), iter_lim=n_iter, atol=0, btol=0, show=True)[0]\n",
    "df1_adj = df1_adj.reshape(2*(2*nt-1), nr)\n",
    "df1_inv = df1_inv.reshape(2*(2*nt-1), nr)"
   ]
  },
  {
   "cell_type": "markdown",
   "metadata": {},
   "source": [
    "Add initial guess to estimated focusing functions"
   ]
  },
  {
   "cell_type": "code",
   "execution_count": null,
   "metadata": {},
   "outputs": [],
   "source": [
    "df1_adj_tot = df1_adj + np.concatenate((np.zeros((2*nt-1, nr)),\n",
    "                                        dfd_plus))\n",
    "\n",
    "df1_inv_tot = df1_inv + np.concatenate((np.zeros((2*nt-1, nr)), \n",
    "                                        dfd_plus))"
   ]
  },
  {
   "cell_type": "markdown",
   "metadata": {},
   "source": [
    "Estimate Green's functions"
   ]
  },
  {
   "cell_type": "code",
   "execution_count": null,
   "metadata": {},
   "outputs": [],
   "source": [
    "dg_adj = dGop * df1_adj_tot.flatten()\n",
    "dg_inv = dGop * df1_inv_tot.flatten()\n",
    "\n",
    "dg_adj = dg_adj.reshape(2*(2*nt-1), nr)\n",
    "dg_inv = dg_inv.reshape(2*(2*nt-1), nr)"
   ]
  },
  {
   "cell_type": "markdown",
   "metadata": {},
   "source": [
    "Extract up and down focusing and Green's functions from model vectors"
   ]
  },
  {
   "cell_type": "code",
   "execution_count": null,
   "metadata": {},
   "outputs": [],
   "source": [
    "dg_inv = np.real(dg_inv)"
   ]
  },
  {
   "cell_type": "code",
   "execution_count": null,
   "metadata": {},
   "outputs": [],
   "source": [
    "df1_inv_minus, df1_inv_plus = df1_inv_tot[:(2*nt-1)].T, df1_inv_tot[(2*nt-1):].T\n",
    "\n",
    "dg_inv_minus, dg_inv_plus = -dg_inv[:(2*nt-1)].T, np.fliplr(dg_inv[(2*nt-1):].T)\n",
    "dg_inv_tot = dg_inv_minus + dg_inv_plus\n",
    "\n",
    "print('Marchenko:', time.time() - t0)"
   ]
  },
  {
   "cell_type": "markdown",
   "metadata": {},
   "source": [
    "Visualization"
   ]
  },
  {
   "cell_type": "code",
   "execution_count": null,
   "metadata": {},
   "outputs": [],
   "source": [
    "# Need to recreate combined data as new implementation stacks over time instead of space\n",
    "dd = np.concatenate((dd[:(2*nt-1)], dd[(2*nt-1):]), axis=1).T\n",
    "df1_inv_tot = np.concatenate((df1_inv_tot[:(2*nt-1)], df1_inv_tot[(2*nt-1):]), axis=1).T\n",
    "dg_inv = np.concatenate((dg_inv[:(2*nt-1)], dg_inv[(2*nt-1):]), axis=1).T"
   ]
  },
  {
   "cell_type": "code",
   "execution_count": null,
   "metadata": {
    "scrolled": false
   },
   "outputs": [],
   "source": [
    "fig, axs = plt.subplots(3, 1, sharey=True, figsize=(16, 20))\n",
    "axs[0].imshow(dp0_minus.T, cmap='gray', vmin=-6e3, vmax=6e3, extent=(0, nr, t[-1], -t[-1]))\n",
    "axs[0].set_title(r'$p_0^-$'), axs[0].set_xlabel(r'$x_R$'), axs[0].set_ylabel(r'$t$')\n",
    "axs[0].axis('tight')\n",
    "axs[0].set_xlim(nr//2-100,nr//2+100)\n",
    "axs[0].set_ylim(1, -1)\n",
    "axs[1].imshow(df1_inv_minus.T, cmap='gray', vmin=-6e3, vmax=6e3, extent=(0, nr, t[-1], -t[-1]))\n",
    "axs[1].set_title(r'$f^-$'), axs[0].set_xlabel(r'$x_R$')\n",
    "axs[1].axis('tight')\n",
    "axs[1].set_xlim(nr//2-100,nr//2+100)\n",
    "axs[1].set_ylim(1, -1)\n",
    "axs[2].imshow(df1_inv_plus.T, cmap='gray', vmin=-6e3, vmax=6e3, extent=(0, nr, t[-1], -t[-1]))\n",
    "axs[2].set_title(r'$f^+$'), axs[0].set_xlabel(r'$x_R$')\n",
    "axs[2].axis('tight')\n",
    "axs[2].set_xlim(nr//2-100,nr//2+100)\n",
    "axs[2].set_ylim(1, -1);"
   ]
  },
  {
   "cell_type": "code",
   "execution_count": null,
   "metadata": {
    "scrolled": false
   },
   "outputs": [],
   "source": [
    "fig, ax = plt.subplots(1, 1, sharey=True, figsize=(16, 3))\n",
    "ax.imshow(dp0_minus.T, cmap='gray', vmin=-1e3, vmax=1e3, \n",
    "          extent=(0, nr, t[-1], -t[-1]))\n",
    "ax.set_title(r'$p^0$'), ax.set_xlabel(r'$x_R$')\n",
    "ax.axis('tight')\n",
    "ax.set_ylim(1., 0)\n",
    "ax.set_xlim(nr//2-100,nr//2+100)\n",
    "\n",
    "fig, ax = plt.subplots(1, 1, sharey=True, figsize=(16, 3))\n",
    "ax.imshow(dg_inv_minus.T * (1-w.T), cmap='gray', vmin=-1e3, vmax=1e3, \n",
    "          extent=(0, nr, t[-1], -t[-1]))\n",
    "ax.set_title(r'$g^-$'), ax.set_xlabel(r'$x_R$')\n",
    "ax.axis('tight')\n",
    "ax.set_ylim(1., 0)\n",
    "ax.set_xlim(nr//2-100,nr//2+100)\n",
    "\n",
    "fig, ax = plt.subplots(1, 1, sharey=True, figsize=(16, 3))\n",
    "ax.imshow(dp0_minus.T - dg_inv_minus.T, cmap='gray', vmin=-1e3, vmax=1e3, \n",
    "          extent=(0, nr, t[-1], -t[-1]))\n",
    "ax.set_title(r'$p^0 - g^-$'), ax.set_xlabel(r'$x_R$')\n",
    "ax.axis('tight')\n",
    "ax.set_ylim(1., 0)\n",
    "ax.set_xlim(nr//2-100,nr//2+100);"
   ]
  },
  {
   "cell_type": "code",
   "execution_count": null,
   "metadata": {
    "scrolled": false
   },
   "outputs": [],
   "source": [
    "fig = plt.figure(figsize=(15, 7))\n",
    "ax1 = plt.subplot2grid((4, 5), (0, 0), rowspan=2, colspan=4)\n",
    "ax2 = plt.subplot2grid((4, 5), (2, 0), rowspan=2, colspan=4)\n",
    "ax3 = plt.subplot2grid((4, 5), (0, 4), rowspan=4)\n",
    "\n",
    "ax1.imshow(Gsub, cmap='gray', vmin=-5e3, vmax=5e3, extent=(0, nr, t[-1], t[0]),\n",
    "           interpolation='sinc')\n",
    "ax1.set_title(r'$G_{true}$'), ax1.set_xlabel(r'$x_R$'), ax1.set_ylabel(r'$t$')\n",
    "ax1.axis('tight')\n",
    "ax1.set_ylim(1., 0)\n",
    "ax1.set_xlim(nr//2-100,nr//2+100)\n",
    "ax2.imshow(dg_inv_tot.T, cmap='gray', vmin=-5e3, vmax=5e3, extent=(0, nr, t[-1], -t[-1]),\n",
    "           interpolation='sinc')\n",
    "ax2.set_title(r'$G_{est}$'), ax2.set_xlabel(r'$x_R$'), ax2.set_ylabel(r'$t$')\n",
    "ax2.axis('tight')\n",
    "ax2.set_ylim(1., 0)\n",
    "ax2.set_xlim(nr//2-100,nr//2+100)\n",
    "\n",
    "ax3.plot(np.exp(4*t) * Gsub[:, nr//2]/Gsub.max(), t, 'r', lw=5)\n",
    "ax3.plot(np.exp(4*t) * dg_inv_tot[nr//2, nt-1:]/dg_inv_tot.max(), t, 'k', lw=3)\n",
    "ax3.set_ylim(1., 0);"
   ]
  },
  {
   "cell_type": "code",
   "execution_count": null,
   "metadata": {
    "scrolled": false
   },
   "outputs": [],
   "source": [
    "whos"
   ]
  },
  {
   "cell_type": "code",
   "execution_count": null,
   "metadata": {},
   "outputs": [],
   "source": []
  }
 ],
 "metadata": {
  "kernelspec": {
   "display_name": "Python 3",
   "language": "python",
   "name": "python3"
  },
  "language_info": {
   "codemirror_mode": {
    "name": "ipython",
    "version": 3
   },
   "file_extension": ".py",
   "mimetype": "text/x-python",
   "name": "python",
   "nbconvert_exporter": "python",
   "pygments_lexer": "ipython3",
   "version": "3.7.3"
  },
  "toc": {
   "base_numbering": 1,
   "nav_menu": {},
   "number_sections": true,
   "sideBar": true,
   "skip_h1_title": false,
   "title_cell": "Table of Contents",
   "title_sidebar": "Contents",
   "toc_cell": false,
   "toc_position": {},
   "toc_section_display": true,
   "toc_window_display": false
  }
 },
 "nbformat": 4,
 "nbformat_minor": 1
}
